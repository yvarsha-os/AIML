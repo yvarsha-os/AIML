{
  "nbformat": 4,
  "nbformat_minor": 0,
  "metadata": {
    "colab": {
      "provenance": []
    },
    "kernelspec": {
      "name": "python3",
      "display_name": "Python 3"
    },
    "language_info": {
      "name": "python"
    }
  },
  "cells": [
    {
      "cell_type": "code",
      "source": [
        "from itertools import permutations\n",
        "\n",
        "def solve_cryptarithm(word1, word2, result):\n",
        "    # Get all unique letters\n",
        "    unique_letters = sorted(set(word1 + word2 + result))\n",
        "\n",
        "    # Ensure we have at most 10 unique letters (0-9 digits available)\n",
        "    if len(unique_letters) > 10:\n",
        "        return \"Too many unique letters for a valid solution.\"\n",
        "\n",
        "    # Try all digit permutations\n",
        "    for perm in permutations(range(10), len(unique_letters)):\n",
        "        mapping = dict(zip(unique_letters, perm))\n",
        "\n",
        "        # Ensure no leading zeros\n",
        "        if mapping[word1[0]] == 0 or mapping[word2[0]] == 0 or mapping[result[0]] == 0:\n",
        "            continue\n",
        "\n",
        "        # Convert words to numbers\n",
        "        num1 = int(\"\".join(str(mapping[ch]) for ch in word1))\n",
        "        num2 = int(\"\".join(str(mapping[ch]) for ch in word2))\n",
        "        num_result = int(\"\".join(str(mapping[ch]) for ch in result))\n",
        "\n",
        "        # Check if the equation holds\n",
        "        if num1 + num2 == num_result:\n",
        "            return mapping  # Return the first valid solution found\n",
        "\n",
        "    return \"No solution found.\"\n",
        "\n",
        "# Example Usage\n",
        "word1 = \"SEND\"\n",
        "word2 = \"MORE\"\n",
        "result = \"MONEY\"\n",
        "\n",
        "solution = solve_cryptarithm(word1, word2, result)\n",
        "print(solution)"
      ],
      "metadata": {
        "id": "F09EDTTcVD7j",
        "colab": {
          "base_uri": "https://localhost:8080/"
        },
        "outputId": "ddbe5074-da78-4f0b-e095-e8fbd59e5f4d"
      },
      "execution_count": 4,
      "outputs": [
        {
          "output_type": "stream",
          "name": "stdout",
          "text": [
            "{'D': 7, 'E': 5, 'M': 1, 'N': 6, 'O': 0, 'R': 8, 'S': 9, 'Y': 2}\n"
          ]
        }
      ]
    }
  ]
}