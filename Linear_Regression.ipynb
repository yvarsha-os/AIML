{
  "nbformat": 4,
  "nbformat_minor": 0,
  "metadata": {
    "colab": {
      "provenance": [],
      "include_colab_link": true
    },
    "kernelspec": {
      "name": "python3",
      "display_name": "Python 3"
    },
    "language_info": {
      "name": "python"
    }
  },
  "cells": [
    {
      "cell_type": "markdown",
      "metadata": {
        "id": "view-in-github",
        "colab_type": "text"
      },
      "source": [
        "<a href=\"https://colab.research.google.com/github/yvarsha-os/AIML/blob/main/Linear_Regression.ipynb\" target=\"_parent\"><img src=\"https://colab.research.google.com/assets/colab-badge.svg\" alt=\"Open In Colab\"/></a>"
      ]
    },
    {
      "cell_type": "code",
      "source": [
        "\n",
        "\n",
        "def linear_regression(x, y):\n",
        "\n",
        "    if len(x) != len(y):\n",
        "        raise ValueError(\"x and y must have the same number of elements.\")\n",
        "\n",
        "    n = len(x)\n",
        "\n",
        "\n",
        "    sum_x = sum(x)\n",
        "    sum_y = sum(y)\n",
        "    sum_xy = sum(xi * yi for xi, yi in zip(x, y))\n",
        "    sum_x2 = sum(xi ** 2 for xi in x)\n",
        "\n",
        "\n",
        "    m = (n * sum_xy - sum_x * sum_y) / (n * sum_x2 - sum_x ** 2)\n",
        "    b = (sum_y - m * sum_x) / n\n",
        "\n",
        "\n",
        "    return m, b\n",
        "\n",
        "\n",
        "x = [1, 2, 3, 4, 5]\n",
        "y = [2, 4, 5, 4, 5]\n",
        "\n",
        "m, b = linear_regression(x, y)\n",
        "\n",
        "print(f\"Slope (m): {m}\")\n",
        "print(f\"Intercept (b): {b}\")\n",
        "\n",
        "\n",
        "def predict(x_val, m, b):\n",
        "    return m * x_val + b\n",
        "\n",
        "\n",
        "x_val = 6\n",
        "predicted_y = predict(x_val, m, b)\n",
        "print(f\"Predicted value for x = {x_val}: {predicted_y}\")\n"
      ],
      "metadata": {
        "colab": {
          "base_uri": "https://localhost:8080/"
        },
        "id": "QOwuZzlZ9CJe",
        "outputId": "eb85a55e-2f7e-4b3b-f6a3-b8496455fc5a"
      },
      "execution_count": null,
      "outputs": [
        {
          "output_type": "stream",
          "name": "stdout",
          "text": [
            "Slope (m): 0.6\n",
            "Intercept (b): 2.2\n",
            "Predicted value for x = 6: 5.8\n"
          ]
        }
      ]
    },
    {
      "cell_type": "code",
      "source": [
        "import os\n",
        "print(os.listdir('/content'))"
      ],
      "metadata": {
        "colab": {
          "base_uri": "https://localhost:8080/"
        },
        "id": "w7sGv95nCtCq",
        "outputId": "0406c6b4-db0c-4e00-fc3e-50ee460dfd0c"
      },
      "execution_count": null,
      "outputs": [
        {
          "output_type": "stream",
          "name": "stdout",
          "text": [
            "['.config', 'sample_data']\n"
          ]
        }
      ]
    },
    {
      "cell_type": "code",
      "source": [
        "import pandas as pd\n",
        "\n",
        "\n",
        "df = pd.read_csv('/diabetes.csv')\n",
        "\n",
        "print(df.head())\n"
      ],
      "metadata": {
        "colab": {
          "base_uri": "https://localhost:8080/"
        },
        "id": "EIK7lc5SDjj4",
        "outputId": "6d514e7d-2764-4cf6-998a-9d1529192288"
      },
      "execution_count": null,
      "outputs": [
        {
          "output_type": "stream",
          "name": "stdout",
          "text": [
            "   Pregnancies  Glucose  BloodPressure  SkinThickness  Insulin   BMI  \\\n",
            "0            6      148             72             35        0  33.6   \n",
            "1            1       85             66             29        0  26.6   \n",
            "2            8      183             64              0        0  23.3   \n",
            "3            1       89             66             23       94  28.1   \n",
            "4            0      137             40             35      168  43.1   \n",
            "\n",
            "   DiabetesPedigreeFunction  Age  Outcome  \n",
            "0                     0.627   50        1  \n",
            "1                     0.351   31        0  \n",
            "2                     0.672   32        1  \n",
            "3                     0.167   21        0  \n",
            "4                     2.288   33        1  \n"
          ]
        }
      ]
    },
    {
      "cell_type": "code",
      "source": [
        "\n",
        "import pandas as pd\n",
        "\n",
        "\n",
        "df = pd.read_csv('/diabetes.csv')\n",
        "\n",
        "\n",
        "x = df['Glucose'].tolist()\n",
        "y = df['BloodPressure'].tolist()\n",
        "\n",
        "def linear_regression(x, y):\n",
        "\n",
        "    if len(x) != len(y):\n",
        "        raise ValueError(\"x and y must have the same number of elements.\")\n",
        "\n",
        "    n = len(x)\n",
        "\n",
        "\n",
        "    sum_x = sum(x)\n",
        "    sum_y = sum(y)\n",
        "    sum_xy = sum(xi * yi for xi, yi in zip(x, y))\n",
        "    sum_x2 = sum(xi ** 2 for xi in x)\n",
        "\n",
        "\n",
        "    m = (n * sum_xy - sum_x * sum_y) / (n * sum_x2 - sum_x ** 2)\n",
        "    b = (sum_y - m * sum_x) / n\n",
        "\n",
        "\n",
        "    return m, b\n",
        "\n",
        "\n",
        "m, b = linear_regression(x, y)\n",
        "\n",
        "print(f\"Slope (m): {m}\")\n",
        "print(f\"Intercept (b): {b}\")\n",
        "\n",
        "\n",
        "def predict(x_val, m, b):\n",
        "    return m * x_val + b\n",
        "\n",
        "\n",
        "x_val = 120\n",
        "predicted_y = predict(x_val, m, b)\n",
        "print(f\"Predicted BloodPressure for Glucose level {x_val}: {predicted_y}\")\n"
      ],
      "metadata": {
        "colab": {
          "base_uri": "https://localhost:8080/"
        },
        "id": "4dxpeYlIEDcY",
        "outputId": "4513befe-7aea-49f6-d45a-7dda3bb13886"
      },
      "execution_count": null,
      "outputs": [
        {
          "output_type": "stream",
          "name": "stdout",
          "text": [
            "Slope (m): 0.09237575089552014\n",
            "Intercept (b): 57.93774564661933\n",
            "Predicted BloodPressure for Glucose level 120: 69.02283575408174\n"
          ]
        }
      ]
    }
  ]
}